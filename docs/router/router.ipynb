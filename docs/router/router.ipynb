{
 "cells": [
  {
   "cell_type": "markdown",
   "metadata": {},
   "source": [
    "# SGLang Native Router\n",
    "\n",
    "Given multiple GPUs running multiple SGLang Runtimes, SGLang Native Router distributes the requests to different Runtimes with its unique cache-aware load-balancing algorithm.\n",
    "\n",
    "The native router is a independent Python package, and it can be used as a drop-in replacement for the OpenAI API.\n",
    "\n",
    "## Installation\n",
    "\n",
    "```bash\n",
    "pip install sglang-router\n",
    "```"
   ]
  },
  {
   "cell_type": "markdown",
   "metadata": {},
   "source": [
    "Detailed usage of the router can be found in [launch_router](https://github.com/sgl-project/sglang/blob/main/rust/py_src/sglang_router/launch_router.py) and [launch_server](https://github.com/sgl-project/sglang/blob/main/rust/py_src/sglang/launch_server.py). Also, you can directly run the following command to see the usage of the router.\n",
    "\n",
    "```bash\n",
    "python -m sglang_router.launch_server --help\n",
    "python -m sglang_router.launch_routher --help\n",
    "```\n",
    "\n",
    "The router supports two working modes:\n",
    "\n",
    "1. Co-launch Router and Runtimes\n",
    "2. Launch Runtimes and Router separately\n",
    "\n",
    "## Co-launch Router and Runtimes\n",
    "\n",
    "This will be a drop-in replacement for the existing `--dp-size` arguement of SGLang Runtime. Under the hood, it uses multi-processes to launch multiple workers, wait for them to be ready, then connect the router to all workers."
   ]
  },
  {
   "cell_type": "code",
   "execution_count": null,
   "metadata": {},
   "outputs": [],
   "source": [
    "from sglang.utils import (\n",
    "    execute_shell_command,\n",
    "    wait_for_server,\n",
    "    terminate_process,\n",
    "    print_highlight,\n",
    ")\n",
    "\n",
    "import requests\n",
    "\n",
    "# Note that our router is implented specifically for mutliple data parallel replicas.\n",
    "# Here we only launch one replica for simplicity.\n",
    "\n",
    "router_process = execute_shell_command(\n",
    "    \"\"\"\n",
    "python -m sglang_router.launch_server --model-path meta-llama/Meta-Llama-3.1-8B-Instruct --dp-size 1\n",
    "\"\"\"\n",
    ")\n",
    "\n",
    "wait_for_server(\"http://localhost:30000\")"
   ]
  },
  {
   "cell_type": "markdown",
   "metadata": {},
   "source": [
    "After the server is ready, you can directly send requests to the router as the same way as sending requests to each single worker."
   ]
  },
  {
   "cell_type": "code",
   "execution_count": null,
   "metadata": {},
   "outputs": [],
   "source": [
    "url = \"http://localhost:30000/generate\"\n",
    "data = {\"text\": \"What is the capital of France?\"}\n",
    "\n",
    "response = requests.post(url, json=data)\n",
    "print_highlight(response.json())\n",
    "\n",
    "terminate_process(router_process)"
   ]
  },
  {
   "cell_type": "markdown",
   "metadata": {},
   "source": [
    "## Launch Runtimes and Router Separately\n",
    "\n",
    "This is useful for multi-node DP. First, launch workers on multiple nodes, then launch a router on the main node, and connect the router to all workers.\n",
    "\n",
    "```bash\n",
    "python -m sglang_router.launch_router --worker-urls http://worker_url_1 http://worker_url_2\n",
    "```"
   ]
  },
  {
   "cell_type": "markdown",
   "metadata": {},
   "source": [
    "## Strategies\n",
    "\n",
    "### Cache-Aware Load-Balancing Router\n",
    "\n",
    "The native router combines two strategies to optimize both cache utilization and request distribution:\n",
    "\n",
    "1. Cache-Aware Routing (Approximate Tree)\n",
    "2. Load-Balancing Routing (Shortest Queue with Balance Thresholds)\n",
    "\n",
    "The router dynamically switches between these strategies based on load conditions:\n",
    "\n",
    "- Uses load balancing when the system is imbalanced\n",
    "- Uses cache-aware routing when the system is balanced\n",
    "\n",
    "A system is considered imbalanced if both conditions are met:\n",
    "\n",
    "1. (max_load - min_load) > balance_abs_threshold\n",
    "2. max_load > balance_rel_threshold * min_load\n",
    "\n",
    "***Cache-Aware Routing (Approximate Tree)***\n",
    "\n",
    "When the workers are considered to be balanced, the router maintains an approximate radix tree for each worker based on request history, eliminating the need for direct cache state queries on each worker. The tree stores raw text characters instead of token IDs to avoid tokenization overhead.\n",
    "\n",
    "Process:\n",
    "\n",
    "1. For each request, find the worker with the highest prefix match.\n",
    "\n",
    "   - If match rate > cache_threshold, route the request to the worker with highest match (likely has relevant data cached)\n",
    "   - If match rate ≤ cache_threshold, route the request to the worker with smallest tree size (most available cache capacity)\n",
    "\n",
    "2. Background maintenance: Periodically evict least recently used leaf nodes on the approximate tree to prevent memory overflow.\n",
    "\n",
    "***Load-Balancing (Shortest Queue)***\n",
    "\n",
    "For unbalanced systems, this strategy tracks pending request counts per worker and routes new requests to the least busy worker. This helps maintain optimal load distribution across workers.\n",
    "\n",
    "## Configuration Parameters\n",
    "\n",
    "1. `cache_threshold`: (float, 0.0 to 1.0, default: 0.5)\n",
    "   - Minimum prefix match ratio to use highest-match routing.\n",
    "   - Below this threshold, the request will be routed to the worker with most available cache space.\n",
    "\n",
    "2. `balance_abs_threshold`: (integer, default: 32)\n",
    "   - Absolute difference threshold for load imbalance detection.\n",
    "   - The system is potentially imbalanced if (max_load - min_load) > abs_threshold.\n",
    "\n",
    "3. `balance_rel_threshold`: (float, default: 1.0001)\n",
    "   - Relative ratio threshold for load imbalance detection.\n",
    "   - The system is potentially imbalanced if max_load > min_load * rel_threshold.\n",
    "   - Used in conjunction with `balance_abs_threshold` to determine the final imbalance state.\n",
    "\n",
    "4. `eviction_interval`: (integer, default: 60)\n",
    "   - Interval in seconds between LRU eviction cycles for the approximate trees.\n",
    "   - Background thread periodically evicts least recently used nodes to maintain tree size.\n",
    "\n",
    "5. `max_tree_size`: (integer, default: 16777216)\n",
    "   - Maximum nodes on the approximate tree.\n",
    "   - When exceeded, LRU leaf nodes are evicted during the next eviction cycle."
   ]
  }
 ],
 "metadata": {
  "language_info": {
   "codemirror_mode": {
    "name": "ipython",
    "version": 3
   },
   "file_extension": ".py",
   "mimetype": "text/x-python",
   "name": "python",
   "nbconvert_exporter": "python",
   "pygments_lexer": "ipython3"
  }
 },
 "nbformat": 4,
 "nbformat_minor": 2
}
