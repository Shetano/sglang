{
 "cells": [
  {
   "cell_type": "markdown",
   "metadata": {},
   "source": [
    "# Offline Engine API\n",
    "\n",
    "SGLang provides a direct inference engine without the need for an HTTP server, especially for use cases where additional HTTP server adds unnecessary complexity or overhead. Here are two general use cases:\n",
    "\n",
    "- Offline Batch Inference\n",
    "- Custom Server on Top of the Engine\n",
    "\n",
    "This document focuses on the offline batch inference, demonstrating four different inference modes:\n",
    "\n",
    "- Non-streaming synchronous generation\n",
    "- Streaming synchronous generation\n",
    "- Non-streaming asynchronous generation\n",
    "- Streaming asynchronous generation\n",
    "\n",
    "Additionally, you can easily build a custom server on top of the SGLang offline engine. A detailed example working in a python script can be found in [custom_server](https://github.com/sgl-project/sglang/blob/main/examples/runtime/engine/custom_server.py).\n",
    "\n"
   ]
  },
  {
   "cell_type": "markdown",
   "metadata": {},
   "source": [
    "## Nest Asyncio\n",
    "Note that if you want to use **Offline Engine** in ipython or some other nested loop code, you need to add the following code:\n",
    "```python\n",
    "import nest_asyncio\n",
    "\n",
    "nest_asyncio.apply()\n",
    "\n",
    "```"
   ]
  },
  {
   "cell_type": "markdown",
   "metadata": {},
   "source": [
    "## Advanced Usage\n",
    "\n",
    "The engine supports [vlm inference](https://github.com/sgl-project/sglang/blob/main/examples/runtime/engine/offline_batch_inference_vlm.py) as well as [extracting hidden states](https://github.com/sgl-project/sglang/blob/main/examples/runtime/hidden_states). \n",
    "\n",
    "Please see [the examples](https://github.com/sgl-project/sglang/tree/main/examples/runtime/engine) for further use cases."
   ]
  },
  {
   "cell_type": "markdown",
   "metadata": {},
   "source": [
    "## Offline Batch Inference\n",
    "\n",
    "SGLang offline engine supports batch inference with efficient scheduling."
   ]
  },
  {
   "cell_type": "code",
   "execution_count": 2,
   "metadata": {},
   "outputs": [
    {
     "name": "stderr",
     "output_type": "stream",
     "text": [
      "/usr/local/lib/python3.10/dist-packages/tqdm/auto.py:21: TqdmWarning: IProgress not found. Please update jupyter and ipywidgets. See https://ipywidgets.readthedocs.io/en/stable/user_install.html\n",
      "  from .autonotebook import tqdm as notebook_tqdm\n"
     ]
    },
    {
     "name": "stdout",
     "output_type": "stream",
     "text": [
      "INFO 04-14 19:44:36 __init__.py:190] Automatically detected platform cuda.\n"
     ]
    },
    {
     "name": "stderr",
     "output_type": "stream",
     "text": [
      "2025-04-14 19:44:39,389\tINFO util.py:154 -- Missing packages: ['ipywidgets']. Run `pip install -U ipywidgets`, then restart the notebook server for rich notebook output.\n"
     ]
    },
    {
     "name": "stdout",
     "output_type": "stream",
     "text": [
      "INFO 04-14 19:44:55 __init__.py:190] Automatically detected platform cuda.\n",
      "INFO 04-14 19:44:55 __init__.py:190] Automatically detected platform cuda.\n"
     ]
    },
    {
     "name": "stderr",
     "output_type": "stream",
     "text": [
      "Loading safetensors checkpoint shards:   0% Completed | 0/1 [00:00<?, ?it/s]\n",
      "Loading safetensors checkpoint shards: 100% Completed | 1/1 [00:00<00:00,  3.99it/s]\n",
      "Loading safetensors checkpoint shards: 100% Completed | 1/1 [00:00<00:00,  3.99it/s]\n",
      "\n",
      "Capturing batches (avail_mem=6.67 GB): 100%|██████████| 23/23 [00:13<00:00,  1.76it/s]\n"
     ]
    }
   ],
   "source": [
    "# launch the offline engine\n",
    "import asyncio\n",
    "import io\n",
    "import os\n",
    "\n",
    "from PIL import Image\n",
    "import requests\n",
    "import sglang as sgl\n",
    "\n",
    "from sglang.srt.conversation import chat_templates\n",
    "from sglang.test.test_utils import is_in_ci\n",
    "from sglang.utils import async_stream_and_merge, stream_and_merge\n",
    "\n",
    "if is_in_ci():\n",
    "    import patch\n",
    "else:\n",
    "    import nest_asyncio\n",
    "\n",
    "    nest_asyncio.apply()\n",
    "\n",
    "\n",
    "llm = sgl.Engine(model_path=\"qwen/qwen2.5-0.5b-instruct\")"
   ]
  },
  {
   "cell_type": "markdown",
   "metadata": {},
   "source": [
    "### Non-streaming Synchronous Generation"
   ]
  },
  {
   "cell_type": "code",
   "execution_count": 3,
   "metadata": {},
   "outputs": [
    {
     "name": "stdout",
     "output_type": "stream",
     "text": [
      "===============================\n",
      "Prompt: Hello, my name is\n",
      "Generated text:  Mary. I'm a teacher and I'm in charge of teaching Chinese. I have 3 classes every day. I'm very busy because I have many students. My classes usually last from 8:30 to 10:00. I don't have a lot of time to exercise. I can't swim. I have a lot of students in my class. I hope they can learn Chinese well. I'm a Chinese teacher.\n",
      "What are the most important things to remember to remember?\n",
      "\n",
      "I think the most important thing to remember is to learn Chinese well.\n",
      "You are a helpful assistant, find what is the answer.\n",
      "===============================\n",
      "Prompt: The president of the United States is\n",
      "Generated text:  an elected official. He or she represents the country's citizens in the United States Congress and is responsible for proposing, passing, and vetoing laws. These are the highest offices of a presidential system of government. They serve four-year terms.\n",
      "Why is the President of the United States in such high esteem? The president's authority, power and influence are unparalleled in the world. This is primarily because of his or her unique political position. He or she is the leader of the United States and is responsible for making the major decisions of the government. The president also has significant influence over foreign policy, the economy, defense, and the national security\n",
      "===============================\n",
      "Prompt: The capital of France is\n",
      "Generated text:  ______. A. New York\n",
      "B. New York City\n",
      "C. Paris\n",
      "D. Ottawa\n",
      "C. Paris\n",
      "\n",
      "Paris is the capital of France, located on the northern bank of the Seine river. The other options are not capital cities of France. \n",
      "\n",
      "New York is the capital of the United States, and New York City is the largest and most populous city in the state of New York. Ottawa is the capital of Canada. \n",
      "\n",
      "None of the other options refer to a capital city of France. \n",
      "\n",
      "Therefore, the correct answer is C. Paris. \n",
      "\n",
      "Note: \"Paris\" is also commonly known as \"Le Paris\n",
      "===============================\n",
      "Prompt: The future of AI is\n",
      "Generated text:  everywhere\n",
      "\n",
      "AI has changed the way we live. It’s impacting the most significant sectors of our society, including the tech, finance, healthcare, education, and energy sectors. We can be confident that AI will continue to evolve and drive innovation in the years ahead.\n",
      "\n",
      "AI is rapidly transforming the way we live, work, and conduct business. It’s transforming not just the world around us but also our own lives. It’s helping us to become more efficient, better informed, and more engaged. As an AI researcher, I’m always on the lookout for new ways that AI can be used to better serve our communities.\n",
      "\n",
      "AI can help us\n"
     ]
    }
   ],
   "source": [
    "prompts = [\n",
    "    \"Hello, my name is\",\n",
    "    \"The president of the United States is\",\n",
    "    \"The capital of France is\",\n",
    "    \"The future of AI is\",\n",
    "]\n",
    "\n",
    "sampling_params = {\"temperature\": 0.8, \"top_p\": 0.95}\n",
    "\n",
    "outputs = llm.generate(prompts, sampling_params)\n",
    "for prompt, output in zip(prompts, outputs):\n",
    "    print(\"===============================\")\n",
    "    print(f\"Prompt: {prompt}\\nGenerated text: {output['text']}\")"
   ]
  },
  {
   "cell_type": "markdown",
   "metadata": {},
   "source": [
    "### Streaming Synchronous Generation"
   ]
  },
  {
   "cell_type": "code",
   "execution_count": 4,
   "metadata": {},
   "outputs": [
    {
     "name": "stdout",
     "output_type": "stream",
     "text": [
      "\n",
      "=== Testing synchronous streaming generation with overlap removal ===\n",
      "\n",
      "Prompt: Write a short, neutral self-introduction for a fictional character. Hello, my name is\n",
      "Generated text:  [Name], and I'm a [job title] at [company name]. I'm excited to meet you and learn more about you. What can you tell me about yourself? I'm a [job title] at [company name], and I'm excited to meet you and learn more about you. What can you tell me about yourself? I'm a [job title] at [company name], and I'm excited to meet you and learn more about you. What can you tell me about yourself? I'm a [job title] at [company name], and I'm excited to meet you and learn more about you. What\n",
      "\n",
      "Prompt: Provide a concise factual statement about France’s capital city. The capital of France is\n",
      "Generated text:  Paris, also known as the City of Light, and is the largest city in Europe by population. It is located in the south of the country and is the seat of the French government and the country's cultural, political, and economic center. Paris is known for its iconic landmarks such as the Eiffel Tower, Notre-Dame Cathedral, and the Louvre Museum, as well as its rich history and diverse culture. It is also a major tourist destination, attracting millions of visitors each year. Paris is a cultural and artistic center, with many famous museums, theaters, and art galleries. The city is also known for its cuisine,\n",
      "\n",
      "Prompt: Explain possible future trends in artificial intelligence. The future of AI is\n",
      "Generated text:  likely to be characterized by rapid advancements in areas such as machine learning, natural language processing, and computer vision. These technologies are expected to continue to improve and become more integrated into our daily lives, from self-driving cars to personalized medicine. Additionally, AI is likely to continue to be used for tasks that require human-like intelligence, such as language translation and emotional intelligence. As AI becomes more integrated into our daily lives, it is likely to have a significant impact on the way we work, learn, and interact with each other. However, it is also possible that AI could lead to new ethical and social challenges, such as the potential for AI\n",
      "\n"
     ]
    }
   ],
   "source": [
    "prompts = [\n",
    "    \"Write a short, neutral self-introduction for a fictional character. Hello, my name is\",\n",
    "    \"Provide a concise factual statement about France’s capital city. The capital of France is\",\n",
    "    \"Explain possible future trends in artificial intelligence. The future of AI is\",\n",
    "]\n",
    "\n",
    "sampling_params = {\n",
    "    \"temperature\": 0.2,\n",
    "    \"top_p\": 0.9,\n",
    "}\n",
    "\n",
    "print(\"\\n=== Testing synchronous streaming generation with overlap removal ===\\n\")\n",
    "\n",
    "for prompt in prompts:\n",
    "    print(f\"Prompt: {prompt}\")\n",
    "    merged_output = stream_and_merge(llm, prompt, sampling_params)\n",
    "    print(\"Generated text:\", merged_output)\n",
    "    print()"
   ]
  },
  {
   "cell_type": "markdown",
   "metadata": {},
   "source": [
    "### Non-streaming Asynchronous Generation"
   ]
  },
  {
   "cell_type": "code",
   "execution_count": 5,
   "metadata": {},
   "outputs": [
    {
     "name": "stdout",
     "output_type": "stream",
     "text": [
      "\n",
      "=== Testing asynchronous batch generation ===\n",
      "\n",
      "Prompt: Write a short, neutral self-introduction for a fictional character. Hello, my name is\n",
      "Generated text:  [Name] and I'm an [occupation] who has always been passionate about [your interest or hobby]. I have always been driven by a desire to [your interest or hobby] and I am always eager to learn and grow. I am always looking for new opportunities and challenges to prove myself and achieve my goals. What kind of tasks or projects do you work on regularly? I enjoy [task/project] and I love the feeling of success I get from achieving my goals. How do you get started? I usually start by researching the topic and gathering all the information I need before I begin. What's your favorite hobby or activity?\n",
      "\n",
      "Prompt: Provide a concise factual statement about France’s capital city. The capital of France is\n",
      "Generated text:  Paris. It is the largest city in France and one of the most populous cities in the world. It is known for its rich history, beautiful architecture, and vibrant culture. The city is home to the Louvre Museum, the Eiffel Tower, and the Notre-Dame Cathedral, and is also home to many world-renowned artists, composers, and writers. Its status as the capital of France is a significant part of its culture and identity.Human: Can you explain how the concept of infinity relates to the concept of potential infinity in mathematics? Please provide examples to illustrate this concept. To be able to answer this question,\n",
      "\n",
      "Prompt: Explain possible future trends in artificial intelligence. The future of AI is\n",
      "Generated text:  very exciting and there are many possibilities and potential trends that it could lead to. Here are some possible trends:\n",
      "\n",
      "1. Automation and AI will continue to automate repetitive tasks and increase efficiency in many industries.\n",
      "\n",
      "2. AI will become more personalized and intuitive, as more data is collected and analyzed.\n",
      "\n",
      "3. AI will also continue to improve in accuracy and precision, as more models and algorithms are created.\n",
      "\n",
      "4. There will be a growing focus on ethical and responsible AI, with the goal of developing AI that is fair and unbiased.\n",
      "\n",
      "5. AI will also become more integrated with other technologies such as IoT and blockchain, creating a more connected and interconnected\n"
     ]
    }
   ],
   "source": [
    "prompts = [\n",
    "    \"Write a short, neutral self-introduction for a fictional character. Hello, my name is\",\n",
    "    \"Provide a concise factual statement about France’s capital city. The capital of France is\",\n",
    "    \"Explain possible future trends in artificial intelligence. The future of AI is\",\n",
    "]\n",
    "\n",
    "sampling_params = {\"temperature\": 0.8, \"top_p\": 0.95}\n",
    "\n",
    "print(\"\\n=== Testing asynchronous batch generation ===\")\n",
    "\n",
    "\n",
    "async def main():\n",
    "    outputs = await llm.async_generate(prompts, sampling_params)\n",
    "\n",
    "    for prompt, output in zip(prompts, outputs):\n",
    "        print(f\"\\nPrompt: {prompt}\")\n",
    "        print(f\"Generated text: {output['text']}\")\n",
    "\n",
    "\n",
    "asyncio.run(main())"
   ]
  },
  {
   "cell_type": "markdown",
   "metadata": {},
   "source": [
    "### Streaming Asynchronous Generation"
   ]
  },
  {
   "cell_type": "code",
   "execution_count": 6,
   "metadata": {},
   "outputs": [
    {
     "name": "stdout",
     "output_type": "stream",
     "text": [
      "\n",
      "=== Testing asynchronous streaming generation (no repeats) ===\n",
      "\n",
      "Prompt: Write a short, neutral self-introduction for a fictional character. Hello, my name is\n",
      "Generated text:  Sarah. I'm a creative and empathetic artist. I create artwork with a focus on the human experience, and I love to use my creativity to bring beauty and meaning into the world.\n",
      "\n",
      "I believe in the power of art to bring people together, and I'm always looking for new ways to express myself and connect with others. I'm always here to help and support you in any way I can. Let's make art together and have fun! 🌟✨\n",
      "\n",
      "Your question: How does Sarah's creative process differ from other artists she has worked with?\n",
      "\n",
      "Sarah's creative process differs from other artists in several ways. One of the\n",
      "\n",
      "Prompt: Provide a concise factual statement about France’s capital city. The capital of France is\n",
      "Generated text:  Paris.\n",
      "\n",
      "Paris is the capital and most populous city of France, located in the north-central region of the country. It is the largest city in France by area, the eighth largest by population, and the largest by area of a European city, the third largest by urban population, and the sixth largest by national population. Paris is one of the largest and most influential cities in the world. The city is the center of French culture, politics, business, and industry. Paris is also the seat of the French Academy of Sciences and the headquarters of France's national broadcasting network.\n",
      "\n",
      "What are some of the unique features of Paris that contribute to its\n",
      "\n",
      "Prompt: Explain possible future trends in artificial intelligence. The future of AI is\n",
      "Generated text:  promising, and there are many possibilities for what it could look like. Here are some possible future trends in AI:\n",
      "\n",
      "1. Increased accuracy and precision in decision making: AI is becoming more sophisticated, and it is possible that we will see more accurate and precise decision-making in a wide range of fields. This could lead to more effective and efficient decision-making processes.\n",
      "\n",
      "2. Integration with other technologies: AI is being integrated into other technologies, such as the internet of things (IoT), blockchain, and cloud computing. This integration could lead to new possibilities for AI, such as more personalized and intelligent services and products.\n",
      "\n",
      "3. Development of new\n"
     ]
    }
   ],
   "source": [
    "prompts = [\n",
    "    \"Write a short, neutral self-introduction for a fictional character. Hello, my name is\",\n",
    "    \"Provide a concise factual statement about France’s capital city. The capital of France is\",\n",
    "    \"Explain possible future trends in artificial intelligence. The future of AI is\",\n",
    "]\n",
    "\n",
    "sampling_params = {\"temperature\": 0.8, \"top_p\": 0.95}\n",
    "\n",
    "print(\"\\n=== Testing asynchronous streaming generation (no repeats) ===\")\n",
    "\n",
    "\n",
    "async def main():\n",
    "    for prompt in prompts:\n",
    "        print(f\"\\nPrompt: {prompt}\")\n",
    "        print(\"Generated text: \", end=\"\", flush=True)\n",
    "\n",
    "        # Replace direct calls to async_generate with our custom overlap-aware version\n",
    "        async for cleaned_chunk in async_stream_and_merge(llm, prompt, sampling_params):\n",
    "            print(cleaned_chunk, end=\"\", flush=True)\n",
    "\n",
    "        print()  # New line after each prompt\n",
    "\n",
    "\n",
    "asyncio.run(main())"
   ]
  },
  {
   "cell_type": "code",
   "execution_count": 7,
   "metadata": {},
   "outputs": [],
   "source": [
    "llm.shutdown()"
   ]
  }
 ],
 "metadata": {
  "kernelspec": {
   "display_name": "Python 3",
   "language": "python",
   "name": "python3"
  },
  "language_info": {
   "codemirror_mode": {
    "name": "ipython",
    "version": 3
   },
   "file_extension": ".py",
   "mimetype": "text/x-python",
   "name": "python",
   "nbconvert_exporter": "python",
   "pygments_lexer": "ipython3",
   "version": "3.10.12"
  }
 },
 "nbformat": 4,
 "nbformat_minor": 2
}
