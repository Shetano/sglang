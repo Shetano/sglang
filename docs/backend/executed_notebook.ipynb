{
 "cells": [
  {
   "cell_type": "markdown",
   "id": "b10fe3c4",
   "metadata": {
    "papermill": {
     "duration": 0.001616,
     "end_time": "2024-11-02T14:36:50.213196",
     "exception": false,
     "start_time": "2024-11-02T14:36:50.211580",
     "status": "completed"
    },
    "tags": []
   },
   "source": [
    "# OpenAI APIs - Embedding\n",
    "\n",
    "SGLang supports embedding models in the same way as completion models. Here are some example models:\n",
    "\n",
    "- [intfloat/e5-mistral-7b-instruct](https://huggingface.co/intfloat/e5-mistral-7b-instruct)\n",
    "- [Alibaba-NLP/gte-Qwen2-7B-instruct](https://huggingface.co/Alibaba-NLP/gte-Qwen2-7B-instruct)\n"
   ]
  },
  {
   "cell_type": "markdown",
   "id": "5a69981a",
   "metadata": {
    "papermill": {
     "duration": 0.001216,
     "end_time": "2024-11-02T14:36:50.215824",
     "exception": false,
     "start_time": "2024-11-02T14:36:50.214608",
     "status": "completed"
    },
    "tags": []
   },
   "source": [
    "## Launch A Server\n",
    "\n",
    "The following code is equivalent to running this in the shell:\n",
    "\n",
    "```bash\n",
    "python -m sglang.launch_server --model-path Alibaba-NLP/gte-Qwen2-7B-instruct \\\n",
    "    --port 30010 --host 0.0.0.0 --is-embedding\n",
    "```\n",
    "\n",
    "Remember to add `--is-embedding` to the command."
   ]
  },
  {
   "cell_type": "code",
   "execution_count": null,
   "id": "5db4db49",
   "metadata": {
    "execution": {
     "iopub.execute_input": "2024-11-02T14:36:50.218919Z",
     "iopub.status.busy": "2024-11-02T14:36:50.218686Z",
     "iopub.status.idle": "2024-11-02T14:37:16.409282Z",
     "shell.execute_reply": "2024-11-02T14:37:16.408809Z"
    },
    "papermill": {
     "duration": 26.193437,
     "end_time": "2024-11-02T14:37:16.410459",
     "exception": false,
     "start_time": "2024-11-02T14:36:50.217022",
     "status": "completed"
    },
    "tags": []
   },
   "outputs": [],
   "source": [
    "from sglang.utils import (\n",
    "    execute_shell_command,\n",
    "    wait_for_server,\n",
    "    terminate_process,\n",
    "    print_highlight,\n",
    ")\n",
    "\n",
    "embedding_process = execute_shell_command(\n",
    "    \"\"\"\n",
    "python -m sglang.launch_server --model-path Alibaba-NLP/gte-Qwen2-7B-instruct \\\n",
    "    --port 30010 --host 0.0.0.0 --is-embedding\n",
    "\"\"\"\n",
    ")\n",
    "\n",
    "wait_for_server(\"http://localhost:30010\")"
   ]
  },
  {
   "cell_type": "markdown",
   "id": "d733f4e5",
   "metadata": {
    "papermill": {
     "duration": 0.002635,
     "end_time": "2024-11-02T14:37:16.417385",
     "exception": false,
     "start_time": "2024-11-02T14:37:16.414750",
     "status": "completed"
    },
    "tags": []
   },
   "source": [
    "## Using cURL"
   ]
  },
  {
   "cell_type": "code",
   "execution_count": null,
   "id": "3760e6ae",
   "metadata": {
    "execution": {
     "iopub.execute_input": "2024-11-02T14:37:16.427430Z",
     "iopub.status.busy": "2024-11-02T14:37:16.427163Z",
     "iopub.status.idle": "2024-11-02T14:37:16.471097Z",
     "shell.execute_reply": "2024-11-02T14:37:16.470735Z"
    },
    "papermill": {
     "duration": 0.050646,
     "end_time": "2024-11-02T14:37:16.472536",
     "exception": false,
     "start_time": "2024-11-02T14:37:16.421890",
     "status": "completed"
    },
    "tags": []
   },
   "outputs": [],
   "source": [
    "import subprocess, json\n",
    "\n",
    "text = \"Once upon a time\"\n",
    "\n",
    "curl_text = f\"\"\"curl -s http://localhost:30010/v1/embeddings \\\n",
    "  -d '{{\"model\": \"Alibaba-NLP/gte-Qwen2-7B-instruct\", \"input\": \"{text}\"}}'\"\"\"\n",
    "\n",
    "text_embedding = json.loads(subprocess.check_output(curl_text, shell=True))[\"data\"][0][\n",
    "    \"embedding\"\n",
    "]\n",
    "\n",
    "print_highlight(f\"Text embedding (first 10): {text_embedding[:10]}\")"
   ]
  },
  {
   "cell_type": "markdown",
   "id": "18ba8f6e",
   "metadata": {
    "papermill": {
     "duration": 0.004745,
     "end_time": "2024-11-02T14:37:16.482155",
     "exception": false,
     "start_time": "2024-11-02T14:37:16.477410",
     "status": "completed"
    },
    "tags": []
   },
   "source": [
    "## Using OpenAI Compatible API w/ Requests"
   ]
  },
  {
   "cell_type": "code",
   "execution_count": null,
   "id": "574a7976",
   "metadata": {
    "execution": {
     "iopub.execute_input": "2024-11-02T14:37:16.492689Z",
     "iopub.status.busy": "2024-11-02T14:37:16.492519Z",
     "iopub.status.idle": "2024-11-02T14:37:16.534547Z",
     "shell.execute_reply": "2024-11-02T14:37:16.534221Z"
    },
    "papermill": {
     "duration": 0.048638,
     "end_time": "2024-11-02T14:37:16.535605",
     "exception": false,
     "start_time": "2024-11-02T14:37:16.486967",
     "status": "completed"
    },
    "tags": []
   },
   "outputs": [],
   "source": [
    "import requests\n",
    "\n",
    "text = \"Once upon a time\"\n",
    "\n",
    "response = requests.post(\n",
    "    \"http://localhost:30010/v1/embeddings\",\n",
    "    json={\n",
    "        \"model\": \"Alibaba-NLP/gte-Qwen2-7B-instruct\",\n",
    "        \"input\": text\n",
    "    }\n",
    ")\n",
    "\n",
    "text_embedding = response.json()[\"data\"][0][\"embedding\"]\n",
    "\n",
    "print_highlight(f\"Text embedding (first 10): {text_embedding[:10]}\")"
   ]
  },
  {
   "cell_type": "markdown",
   "id": "afa88d7a",
   "metadata": {
    "papermill": {
     "duration": 0.004632,
     "end_time": "2024-11-02T14:37:16.545686",
     "exception": false,
     "start_time": "2024-11-02T14:37:16.541054",
     "status": "completed"
    },
    "tags": []
   },
   "source": [
    "## Using OpenAI Python Client"
   ]
  },
  {
   "cell_type": "code",
   "execution_count": null,
   "id": "4f8d6e92",
   "metadata": {
    "execution": {
     "iopub.execute_input": "2024-11-02T14:37:16.556839Z",
     "iopub.status.busy": "2024-11-02T14:37:16.556686Z",
     "iopub.status.idle": "2024-11-02T14:37:16.953202Z",
     "shell.execute_reply": "2024-11-02T14:37:16.952732Z"
    },
    "papermill": {
     "duration": 0.403491,
     "end_time": "2024-11-02T14:37:16.954349",
     "exception": false,
     "start_time": "2024-11-02T14:37:16.550858",
     "status": "completed"
    },
    "tags": []
   },
   "outputs": [],
   "source": [
    "import openai\n",
    "\n",
    "client = openai.Client(base_url=\"http://127.0.0.1:30010/v1\", api_key=\"None\")\n",
    "\n",
    "# Text embedding example\n",
    "response = client.embeddings.create(\n",
    "    model=\"Alibaba-NLP/gte-Qwen2-7B-instruct\",\n",
    "    input=text,\n",
    ")\n",
    "\n",
    "embedding = response.data[0].embedding[:10]\n",
    "print_highlight(f\"Text embedding (first 10): {embedding}\")"
   ]
  },
  {
   "cell_type": "markdown",
   "id": "64ead210",
   "metadata": {
    "papermill": {
     "duration": 0.004923,
     "end_time": "2024-11-02T14:37:16.964905",
     "exception": false,
     "start_time": "2024-11-02T14:37:16.959982",
     "status": "completed"
    },
    "tags": []
   },
   "source": [
    "## Using Input IDs\n",
    "\n",
    "SGLang also supports `input_ids` as input to get the embedding."
   ]
  },
  {
   "cell_type": "code",
   "execution_count": null,
   "id": "0ee3b9a5",
   "metadata": {
    "execution": {
     "iopub.execute_input": "2024-11-02T14:37:16.976077Z",
     "iopub.status.busy": "2024-11-02T14:37:16.975928Z",
     "iopub.status.idle": "2024-11-02T14:37:18.817267Z",
     "shell.execute_reply": "2024-11-02T14:37:18.816604Z"
    },
    "papermill": {
     "duration": 1.848443,
     "end_time": "2024-11-02T14:37:18.818523",
     "exception": false,
     "start_time": "2024-11-02T14:37:16.970080",
     "status": "completed"
    },
    "tags": []
   },
   "outputs": [],
   "source": [
    "import json\n",
    "import os\n",
    "from transformers import AutoTokenizer\n",
    "\n",
    "os.environ[\"TOKENIZERS_PARALLELISM\"] = \"false\"\n",
    "\n",
    "tokenizer = AutoTokenizer.from_pretrained(\"Alibaba-NLP/gte-Qwen2-7B-instruct\")\n",
    "input_ids = tokenizer.encode(text)\n",
    "\n",
    "curl_ids = f\"\"\"curl -s http://localhost:30010/v1/embeddings \\\n",
    "  -d '{{\"model\": \"Alibaba-NLP/gte-Qwen2-7B-instruct\", \"input\": {json.dumps(input_ids)}}}'\"\"\"\n",
    "\n",
    "input_ids_embedding = json.loads(subprocess.check_output(curl_ids, shell=True))[\"data\"][\n",
    "    0\n",
    "][\"embedding\"]\n",
    "\n",
    "print_highlight(f\"Input IDs embedding (first 10): {input_ids_embedding[:10]}\")"
   ]
  },
  {
   "cell_type": "code",
   "execution_count": 6,
   "id": "d8506808",
   "metadata": {
    "execution": {
     "iopub.execute_input": "2024-11-02T14:37:18.831589Z",
     "iopub.status.busy": "2024-11-02T14:37:18.831100Z",
     "iopub.status.idle": "2024-11-02T14:37:19.139469Z",
     "shell.execute_reply": "2024-11-02T14:37:19.138203Z"
    },
    "papermill": {
     "duration": 0.316,
     "end_time": "2024-11-02T14:37:19.140608",
     "exception": false,
     "start_time": "2024-11-02T14:37:18.824608",
     "status": "completed"
    },
    "tags": []
   },
   "outputs": [],
   "source": [
    "terminate_process(embedding_process)"
   ]
  }
 ],
 "metadata": {
  "kernelspec": {
   "display_name": "AlphaMeemory",
   "language": "python",
   "name": "python3"
  },
  "language_info": {
   "codemirror_mode": {
    "name": "ipython",
    "version": 3
   },
   "file_extension": ".py",
   "mimetype": "text/x-python",
   "name": "python",
   "nbconvert_exporter": "python",
   "pygments_lexer": "ipython3",
   "version": "3.11.7"
  },
  "papermill": {
   "default_parameters": {},
   "duration": 32.233627,
   "end_time": "2024-11-02T14:37:21.761129",
   "environment_variables": {},
   "exception": null,
   "input_path": "openai_embedding_api.ipynb",
   "output_path": "executed_notebook.ipynb",
   "parameters": {},
   "start_time": "2024-11-02T14:36:49.527502",
   "version": "2.6.0"
  }
 },
 "nbformat": 4,
 "nbformat_minor": 5
}
