{
 "cells": [
  {
   "cell_type": "code",
   "execution_count": null,
   "metadata": {},
   "outputs": [],
   "source": [
    "from sglang.utils import (\n",
    "    execute_shell_command,\n",
    "    wait_for_server,\n",
    "    terminate_process,\n",
    "    print_highlight,\n",
    ")\n",
    "\n",
    "server_process = execute_shell_command(\n",
    "    \"python3 -m sglang.launch_server --model-path Qwen/Qwen2.5-1.5B-Instruct --mem-fraction-static 0.8 --port 30333 --host 0.0.0.0\"  # llama3\n",
    ")\n",
    "wait_for_server(\"http://localhost:30333\")"
   ]
  },
  {
   "cell_type": "markdown",
   "metadata": {},
   "source": [
    "## Multi-turn conversation"
   ]
  },
  {
   "cell_type": "markdown",
   "metadata": {},
   "source": [
    "SGLang provides simple api to build multi-turn conversations."
   ]
  },
  {
   "cell_type": "markdown",
   "metadata": {},
   "source": [
    "Define the prompt template."
   ]
  },
  {
   "cell_type": "code",
   "execution_count": null,
   "metadata": {},
   "outputs": [],
   "source": [
    "from sglang import (\n",
    "    function,\n",
    "    system,\n",
    "    user,\n",
    "    assistant,\n",
    "    gen,\n",
    "    set_default_backend,\n",
    "    RuntimeEndpoint,\n",
    ")\n",
    "\n",
    "\n",
    "@function\n",
    "def multi_turn_conversation(s, country: str):\n",
    "    s += system(\"You are Qwen, created by Alibaba Cloud. You are a helpful assistant.\")\n",
    "    s += user(f\"What is the capital of {country}?\")\n",
    "    s += assistant(gen(\"capital\", max_tokens=250))\n",
    "    s += user(\"Name an interesting building in this city.\")\n",
    "    s += assistant(gen(\"building\", max_tokens=250))"
   ]
  },
  {
   "cell_type": "markdown",
   "metadata": {},
   "source": [
    "Set the default backend to sglang."
   ]
  },
  {
   "cell_type": "code",
   "execution_count": null,
   "metadata": {},
   "outputs": [],
   "source": [
    "set_default_backend(RuntimeEndpoint(\"http://localhost:30333\"))"
   ]
  },
  {
   "cell_type": "markdown",
   "metadata": {},
   "source": [
    "Execute the function and extract the results."
   ]
  },
  {
   "cell_type": "code",
   "execution_count": null,
   "metadata": {},
   "outputs": [],
   "source": [
    "state = multi_turn_conversation.run(\n",
    "    country=\"Germany\",\n",
    ")\n",
    "\n",
    "for m in state.messages():\n",
    "    print(m[\"role\"], \":\", m[\"content\"])\n",
    "\n",
    "print(\"#\" * 50)\n",
    "print(state[\"capital\"])\n",
    "print(\"#\" * 50)\n",
    "print(state[\"building\"])"
   ]
  },
  {
   "cell_type": "markdown",
   "metadata": {},
   "source": [
    "We can use SGLang for OpenAI models as well.\n",
    "\n",
    "For that we only need to execute `export OPENAI_API_KEY=<your-openai-api-key>` and then `set_default_backend(OpenAI(<chosen-model>))`. Everything else stays exactly the same as above."
   ]
  },
  {
   "cell_type": "markdown",
   "metadata": {},
   "source": [
    "## Control Flow"
   ]
  },
  {
   "cell_type": "markdown",
   "metadata": {},
   "source": [
    "SGLang's choices method is a powerful tool to control the flow of the conversation."
   ]
  },
  {
   "cell_type": "code",
   "execution_count": null,
   "metadata": {},
   "outputs": [],
   "source": [
    "@function\n",
    "def control_flow(s, question: str):\n",
    "    s += user(question)\n",
    "    s += assistant(\n",
    "        \"Based on the question, this seems like \"\n",
    "        + gen(\"type\", choices=[\"a technical query\", \"a creative request\"])\n",
    "    )\n",
    "\n",
    "    if s[\"type\"] == \"a technical query\":\n",
    "        s += assistant(\n",
    "            \"Here's a technical explanation: \"\n",
    "            + gen(\"technical_response\", max_tokens=250)\n",
    "        )\n",
    "    else:\n",
    "        s += assistant(\n",
    "            \"Here's a creative response: \" + gen(\"creative_response\", max_tokens=250)\n",
    "        )\n",
    "\n",
    "\n",
    "state = control_flow.run(\n",
    "    question=\"What is the main difference between a CPU and a GPU?\"\n",
    ")\n",
    "print_highlight(state[\"technical_response\"])\n",
    "print(\"#\" * 50)\n",
    "state = control_flow.run(question=\"Can you help me write a story about time travel?\")\n",
    "print_highlight(state[\"creative_response\"])\n",
    "print(\"#\" * 50)"
   ]
  },
  {
   "cell_type": "markdown",
   "metadata": {},
   "source": [
    "## Parallelism"
   ]
  },
  {
   "cell_type": "markdown",
   "metadata": {},
   "source": [
    "Sometimes it is useful to evaluate a model on the same prompt multiple times. We can use `fork` to launch multiple prompts in parallel."
   ]
  },
  {
   "cell_type": "code",
   "execution_count": null,
   "metadata": {},
   "outputs": [],
   "source": [
    "@function\n",
    "def parallel_sample(s, question, n):\n",
    "    s += user(question)\n",
    "    forks = s.fork(n)\n",
    "    forks += assistant(gen(\"answer\", temperature=0.7))\n",
    "    forks.join()\n",
    "\n",
    "\n",
    "states = parallel_sample.run(\n",
    "    question=\"What does the integral of sin(x) from 0 to 2pi evaluate to? Answer without calculation.\",\n",
    "    n=5,\n",
    ")\n",
    "for answer in states[\"answer\"]:\n",
    "    print_highlight(answer)\n",
    "    print_highlight(\"-\" * 50)"
   ]
  },
  {
   "cell_type": "markdown",
   "metadata": {},
   "source": [
    "## Multi-modal"
   ]
  },
  {
   "cell_type": "markdown",
   "metadata": {},
   "source": [
    "TODO"
   ]
  },
  {
   "cell_type": "markdown",
   "metadata": {},
   "source": [
    "## Constrained Decoding"
   ]
  },
  {
   "cell_type": "markdown",
   "metadata": {},
   "source": [
    "We can use a regular expression to constrain the output of the model. This is only supported for local models."
   ]
  },
  {
   "cell_type": "code",
   "execution_count": null,
   "metadata": {},
   "outputs": [],
   "source": [
    "@function\n",
    "def regular_expression_gen(s):\n",
    "    s += user(\"What is the birth date of Albert Einstein?\")\n",
    "    s += assistant(\n",
    "        gen(\n",
    "            \"answer\",\n",
    "            temperature=0,\n",
    "            regex=r\"\\d{1,2}\\/\\d{1,2}\\/\\d{2,4}\",\n",
    "        )\n",
    "    )\n",
    "\n",
    "\n",
    "state = regular_expression_gen.run()\n",
    "print_highlight(state[\"answer\"])"
   ]
  },
  {
   "cell_type": "code",
   "execution_count": null,
   "metadata": {},
   "outputs": [],
   "source": [
    "terminate_process(server_process)"
   ]
  }
 ],
 "metadata": {
  "language_info": {
   "codemirror_mode": {
    "name": "ipython",
    "version": 3
   },
   "file_extension": ".py",
   "mimetype": "text/x-python",
   "name": "python",
   "nbconvert_exporter": "python",
   "pygments_lexer": "ipython3"
  }
 },
 "nbformat": 4,
 "nbformat_minor": 2
}
