{
 "cells": [
  {
   "cell_type": "code",
   "execution_count": null,
   "metadata": {},
   "outputs": [],
   "source": [
    "from sglang.utils import (\n",
    "    execute_shell_command,\n",
    "    wait_for_server,\n",
    "    terminate_process,\n",
    "    print_highlight,\n",
    ")\n",
    "\n",
    "server_process = execute_shell_command(\n",
    "    \"python3 -m sglang.launch_server --model-path Qwen/Qwen2.5-1.5B-Instruct --mem-fraction-static 0.8 --port 30333 --host 0.0.0.0\"  # llama3\n",
    ")\n",
    "wait_for_server(\"http://localhost:30333\")"
   ]
  },
  {
   "cell_type": "markdown",
   "metadata": {},
   "source": [
    "SGLang provides simple api to build multi-turn conversations."
   ]
  },
  {
   "cell_type": "markdown",
   "metadata": {},
   "source": [
    "Define the prompt template."
   ]
  },
  {
   "cell_type": "code",
   "execution_count": null,
   "metadata": {},
   "outputs": [],
   "source": [
    "from sglang import (\n",
    "    function,\n",
    "    system,\n",
    "    user,\n",
    "    assistant,\n",
    "    gen,\n",
    "    set_default_backend,\n",
    "    RuntimeEndpoint,\n",
    ")\n",
    "\n",
    "\n",
    "@function\n",
    "def multi_turn_conversation(s, country: str):\n",
    "    s += system(\"You are Qwen, created by Alibaba Cloud. You are a helpful assistant.\")\n",
    "    s += user(f\"What is the capital of {country}?\")\n",
    "    s += assistant(gen(\"capital\", max_tokens=250))\n",
    "    s += user(\"Name an interesting building in this city.\")\n",
    "    s += assistant(gen(\"building\", max_tokens=250))\n",
    "    return s"
   ]
  },
  {
   "cell_type": "markdown",
   "metadata": {},
   "source": [
    "Set the default backend to sglang."
   ]
  },
  {
   "cell_type": "code",
   "execution_count": null,
   "metadata": {},
   "outputs": [],
   "source": [
    "set_default_backend(RuntimeEndpoint(\"http://localhost:30333\"))"
   ]
  },
  {
   "cell_type": "markdown",
   "metadata": {},
   "source": [
    "Execute the function and extract the results."
   ]
  },
  {
   "cell_type": "code",
   "execution_count": null,
   "metadata": {},
   "outputs": [],
   "source": [
    "state = multi_turn_conversation.run(\n",
    "    country=\"Germany\",\n",
    ")\n",
    "\n",
    "for m in state.messages():\n",
    "    print(m[\"role\"], \":\", m[\"content\"])\n",
    "\n",
    "print(\"#\" * 50)\n",
    "print(state[\"capital\"])\n",
    "print(\"#\" * 50)\n",
    "print(state[\"building\"])"
   ]
  },
  {
   "cell_type": "code",
   "execution_count": null,
   "metadata": {},
   "outputs": [],
   "source": []
  }
 ],
 "metadata": {
  "language_info": {
   "codemirror_mode": {
    "name": "ipython",
    "version": 3
   },
   "file_extension": ".py",
   "mimetype": "text/x-python",
   "name": "python",
   "nbconvert_exporter": "python",
   "pygments_lexer": "ipython3"
  }
 },
 "nbformat": 4,
 "nbformat_minor": 2
}
